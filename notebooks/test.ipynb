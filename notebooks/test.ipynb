{
 "cells": [
  {
   "cell_type": "code",
   "execution_count": 1,
   "id": "139c7a2f",
   "metadata": {},
   "outputs": [
    {
     "name": "stdout",
     "output_type": "stream",
     "text": [
      "Current Directory: /home/stevewang/Github/look-it-from-here/notebooks\n"
     ]
    }
   ],
   "source": [
    "import sys \n",
    "import os\n",
    "import json \n",
    "\n",
    "current_dir = os.getcwd()\n",
    "print(\"Current Directory:\", current_dir)\n",
    "\n",
    "sys.path.insert(0, os.path.abspath(os.path.join(current_dir, '..', 'src')))"
   ]
  },
  {
   "cell_type": "code",
   "execution_count": 2,
   "id": "6484331d",
   "metadata": {},
   "outputs": [],
   "source": [
    "from playwright.async_api import async_playwright\n",
    "from look_it_from_here.core.transform import create_html_tree, create_semantic_tree\n",
    "from look_it_from_here.adapter.playwright_implementation import PlaywrightPage"
   ]
  },
  {
   "cell_type": "code",
   "execution_count": 3,
   "id": "d981b02f",
   "metadata": {},
   "outputs": [],
   "source": [
    "p = await async_playwright().start()\n",
    "browser = await p.chromium.launch(headless=False)\n",
    "page = await browser.new_page() \n",
    "\n",
    "\n",
    "await page.goto(\"https://www.google.com\")\n",
    "await page.wait_for_load_state(\"networkidle\")\n",
    "\n",
    "pw_page = PlaywrightPage(page)"
   ]
  },
  {
   "cell_type": "code",
   "execution_count": 4,
   "id": "8165710e",
   "metadata": {},
   "outputs": [
    {
     "name": "stdout",
     "output_type": "stream",
     "text": [
      "✅ Using OpenAI embedding provider\n",
      "🔍 Processing 41 elements for embedding generation...\n",
      "✅ Generated 5/41 embeddings\n",
      "✅ Generated 10/41 embeddings\n",
      "✅ Generated 15/41 embeddings\n",
      "✅ Generated 20/41 embeddings\n",
      "✅ Generated 25/41 embeddings\n",
      "✅ Generated 30/41 embeddings\n",
      "✅ Generated 35/41 embeddings\n",
      "✅ Generated 40/41 embeddings\n",
      "✅ Generated 41/41 embeddings\n",
      "🎉 Completed embedding generation for 41 elements\n",
      "✅ Using OpenAI embedding provider\n"
     ]
    }
   ],
   "source": [
    "snapshot = await pw_page.get_snapshot()"
   ]
  },
  {
   "cell_type": "code",
   "execution_count": 5,
   "id": "7dd99dc3",
   "metadata": {},
   "outputs": [],
   "source": [
    "with open(\"output.json\", \"w\") as f:\n",
    "    json.dump(snapshot.to_dict(), f, indent=2)"
   ]
  },
  {
   "cell_type": "code",
   "execution_count": 6,
   "id": "98c6f7e8",
   "metadata": {},
   "outputs": [
    {
     "data": {
      "text/plain": [
       "[('dae9998f-2a5d-47a3-9d21-20f787c45723',\n",
       "  <look_it_from_here.adapter.playwright_implementation.PlaywrightElement at 0x7b7476d7f650>,\n",
       "  np.float64(0.2993580312241182)),\n",
       " ('f0411da4-e518-40ca-b9bf-133f51b8e8f1',\n",
       "  <look_it_from_here.adapter.playwright_implementation.PlaywrightElement at 0x7b7476bf7c50>,\n",
       "  np.float64(0.29291058797701025)),\n",
       " ('b2be5d60-14a4-4321-965b-eb6c740ce10d',\n",
       "  <look_it_from_here.adapter.playwright_implementation.PlaywrightElement at 0x7b7476b7a4e0>,\n",
       "  np.float64(0.2764136812882235)),\n",
       " ('41adc850-186b-4e09-bfbd-571af6bfb386',\n",
       "  <look_it_from_here.adapter.playwright_implementation.PlaywrightElement at 0x7b7476b7a510>,\n",
       "  np.float64(0.27429143315404847)),\n",
       " ('70ba84dc-65c4-4bf4-90cb-76b99a7d14fb',\n",
       "  <look_it_from_here.adapter.playwright_implementation.PlaywrightElement at 0x7b7476b79a30>,\n",
       "  np.float64(0.2710571793906884))]"
      ]
     },
     "execution_count": 6,
     "metadata": {},
     "output_type": "execute_result"
    }
   ],
   "source": [
    "snapshot.select_elements(\"Images Button\")"
   ]
  },
  {
   "cell_type": "code",
   "execution_count": 7,
   "id": "7a066595",
   "metadata": {},
   "outputs": [],
   "source": [
    "lucky_button = snapshot.select_element(\"Images button at the nav bar\")"
   ]
  },
  {
   "cell_type": "code",
   "execution_count": 9,
   "id": "0112314a",
   "metadata": {},
   "outputs": [
    {
     "data": {
      "text/plain": [
       "('dae9998f-2a5d-47a3-9d21-20f787c45723',\n",
       " <look_it_from_here.adapter.playwright_implementation.PlaywrightElement at 0x7b7476d7f650>,\n",
       " np.float64(0.3043986058472793))"
      ]
     },
     "execution_count": 9,
     "metadata": {},
     "output_type": "execute_result"
    }
   ],
   "source": [
    "lucky_button"
   ]
  },
  {
   "cell_type": "code",
   "execution_count": null,
   "id": "4f307e3f",
   "metadata": {},
   "outputs": [
    {
     "data": {
      "text/plain": [
       "True"
      ]
     },
     "execution_count": 8,
     "metadata": {},
     "output_type": "execute_result"
    }
   ],
   "source": [
    "await lucky_button[1].click()"
   ]
  }
 ],
 "metadata": {
  "kernelspec": {
   "display_name": "venv",
   "language": "python",
   "name": "python3"
  },
  "language_info": {
   "codemirror_mode": {
    "name": "ipython",
    "version": 3
   },
   "file_extension": ".py",
   "mimetype": "text/x-python",
   "name": "python",
   "nbconvert_exporter": "python",
   "pygments_lexer": "ipython3",
   "version": "3.12.3"
  }
 },
 "nbformat": 4,
 "nbformat_minor": 5
}
