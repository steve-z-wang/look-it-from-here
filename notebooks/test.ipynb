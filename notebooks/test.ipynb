{
 "cells": [
  {
   "cell_type": "code",
   "execution_count": 1,
   "id": "139c7a2f",
   "metadata": {},
   "outputs": [
    {
     "name": "stdout",
     "output_type": "stream",
     "text": [
      "Current Directory: /home/stevewang/Github/look-it-from-here/notebooks\n"
     ]
    }
   ],
   "source": [
    "import sys \n",
    "import os\n",
    "import json \n",
    "\n",
    "current_dir = os.getcwd()\n",
    "print(\"Current Directory:\", current_dir)\n",
    "\n",
    "sys.path.insert(0, os.path.abspath(os.path.join(current_dir, '..', 'src')))"
   ]
  },
  {
   "cell_type": "code",
   "execution_count": 2,
   "id": "6484331d",
   "metadata": {},
   "outputs": [],
   "source": [
    "from playwright.async_api import async_playwright\n",
    "from look_it_from_here.core.transform import create_html_tree, create_semantic_tree\n",
    "from look_it_from_here.adapter.playwright_implementation import PlaywrightPage"
   ]
  },
  {
   "cell_type": "code",
   "execution_count": 3,
   "id": "d981b02f",
   "metadata": {},
   "outputs": [],
   "source": [
    "p = await async_playwright().start()\n",
    "browser = await p.chromium.launch(headless=False)\n",
    "page = await browser.new_page() \n",
    "\n",
    "\n",
    "await page.goto(\"https://www.google.com\")\n",
    "await page.wait_for_load_state(\"networkidle\")\n",
    "\n",
    "pw_page = PlaywrightPage(page)"
   ]
  },
  {
   "cell_type": "code",
   "execution_count": 4,
   "id": "8165710e",
   "metadata": {},
   "outputs": [],
   "source": [
    "snapshot = await pw_page.get_snapshot()"
   ]
  },
  {
   "cell_type": "code",
   "execution_count": 5,
   "id": "7dd99dc3",
   "metadata": {},
   "outputs": [],
   "source": [
    "with open(\"output.json\", \"w\") as f:\n",
    "    json.dump(snapshot.to_dict(), f, indent=2)"
   ]
  },
  {
   "cell_type": "code",
   "execution_count": null,
   "id": "8b0d14d1",
   "metadata": {},
   "outputs": [],
   "source": []
  }
 ],
 "metadata": {
  "kernelspec": {
   "display_name": "venv",
   "language": "python",
   "name": "python3"
  },
  "language_info": {
   "codemirror_mode": {
    "name": "ipython",
    "version": 3
   },
   "file_extension": ".py",
   "mimetype": "text/x-python",
   "name": "python",
   "nbconvert_exporter": "python",
   "pygments_lexer": "ipython3",
   "version": "3.12.3"
  }
 },
 "nbformat": 4,
 "nbformat_minor": 5
}
