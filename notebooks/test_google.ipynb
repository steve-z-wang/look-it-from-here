{
 "cells": [
  {
   "cell_type": "code",
   "execution_count": null,
   "id": "98b4493a",
   "metadata": {},
   "outputs": [],
   "source": [
    "from playwright import async_api"
   ]
  }
 ],
 "metadata": {
  "kernelspec": {
   "display_name": "venv",
   "language": "python",
   "name": "python3"
  },
  "language_info": {
   "name": "python",
   "version": "3.12.3"
  }
 },
 "nbformat": 4,
 "nbformat_minor": 5
}
