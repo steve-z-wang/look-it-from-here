{
 "cells": [
  {
   "cell_type": "code",
   "execution_count": 1,
   "metadata": {},
   "outputs": [
    {
     "name": "stdout",
     "output_type": "stream",
     "text": [
      "Current Directory: /home/stevewang/Github/look-it-from-here/notebooks\n"
     ]
    }
   ],
   "source": [
    "import sys\n",
    "import os\n",
    "import json\n",
    "\n",
    "current_dir = os.getcwd()\n",
    "print(\"Current Directory:\", current_dir)\n",
    "\n",
    "sys.path.insert(0, os.path.abspath(os.path.join(current_dir, '..', 'src')))"
   ]
  },
  {
   "cell_type": "code",
   "execution_count": 2,
   "metadata": {},
   "outputs": [],
   "source": [
    "from playwright.async_api import async_playwright\n",
    "from look_it_from_here.core.transform import create_html_tree, create_semantic_tree, create_embeddings_from_semantic_tree\n",
    "from look_it_from_here.adapter.playwright_implementation import PlaywrightPage\n",
    "from look_it_from_here.core.embeddings import Embedder\n",
    "from look_it_from_here.core.element_selector import ElementSelector"
   ]
  },
  {
   "cell_type": "code",
   "execution_count": 3,
   "metadata": {},
   "outputs": [],
   "source": [
    "p = await async_playwright().start()\n",
    "browser = await p.chromium.launch(headless=False)\n",
    "page = await browser.new_page()\n",
    "\n",
    "await page.goto(\"https://www.google.com\")\n",
    "await page.wait_for_load_state(\"networkidle\")\n",
    "\n",
    "pw_page = PlaywrightPage(page)"
   ]
  },
  {
   "cell_type": "markdown",
   "metadata": {},
   "source": [
    "## Direct Testing - Step by Step"
   ]
  },
  {
   "cell_type": "code",
   "execution_count": 4,
   "metadata": {},
   "outputs": [
    {
     "name": "stdout",
     "output_type": "stream",
     "text": [
      "HTML tree: html\n",
      "DOM elements mapped: 436\n"
     ]
    }
   ],
   "source": [
    "# Step 1: Create HTML tree\n",
    "html_tree, dom_id_to_webelement = await create_html_tree(pw_page)\n",
    "print(f\"HTML tree: {html_tree.tag}\")\n",
    "print(f\"DOM elements mapped: {len(dom_id_to_webelement)}\")"
   ]
  },
  {
   "cell_type": "code",
   "execution_count": 5,
   "metadata": {},
   "outputs": [
    {
     "name": "stdout",
     "output_type": "stream",
     "text": [
      "Semantic tree: body\n",
      "DOM to semantic mappings: 117\n"
     ]
    }
   ],
   "source": [
    "# Step 2: Create semantic tree  \n",
    "semantic_tree, dom_id_to_semantic_id = create_semantic_tree(html_tree)\n",
    "print(f\"Semantic tree: {semantic_tree.tag}\")\n",
    "print(f\"DOM to semantic mappings: {len(dom_id_to_semantic_id)}\")"
   ]
  },
  {
   "cell_type": "code",
   "execution_count": null,
   "metadata": {},
   "outputs": [],
   "source": "# Step 3: Create embeddings and reverse trees\nembedder = Embedder()\nsemantic_id_to_embedding, semantic_id_to_reverse_tree = create_embeddings_from_semantic_tree(semantic_tree, embedder)\nprint(f\"Embeddings created: {len(semantic_id_to_embedding)}\")\nprint(f\"Reverse trees created: {len(semantic_id_to_reverse_tree)}\")"
  },
  {
   "cell_type": "code",
   "source": "# Debug: Look at reverse tree representations\nprint(\"\\\\nSample reverse trees:\")\nfor i, (semantic_id, reverse_tree) in enumerate(semantic_id_to_reverse_tree.items()):\n    if i >= 3:  # Show first 3\n        break\n    print(f\"\\\\n--- {semantic_id} ---\")\n    print(reverse_tree.to_text()[:200] + \"...\")",
   "metadata": {},
   "execution_count": null,
   "outputs": []
  },
  {
   "cell_type": "code",
   "execution_count": null,
   "metadata": {},
   "outputs": [],
   "source": [
    "# Step 4: Create semantic_id_to_webelement mapping\n",
    "semantic_id_to_webelement = {}\n",
    "for dom_id, semantic_id in dom_id_to_semantic_id.items():\n",
    "    if dom_id in dom_id_to_webelement:\n",
    "        semantic_id_to_webelement[semantic_id] = dom_id_to_webelement[dom_id]\n",
    "\n",
    "print(f\"Semantic to web element mappings: {len(semantic_id_to_webelement)}\")"
   ]
  },
  {
   "cell_type": "code",
   "execution_count": null,
   "metadata": {},
   "outputs": [],
   "source": [
    "# Step 5: Test element selection directly\n",
    "class MockSnapshot:\n",
    "    def __init__(self):\n",
    "        self.semantic_id_to_embedding = semantic_id_to_embedding\n",
    "        self.semantic_id_to_webelement = semantic_id_to_webelement\n",
    "\n",
    "mock_snapshot = MockSnapshot()\n",
    "selector = ElementSelector(embedder)\n",
    "\n",
    "results = selector.select_elements(mock_snapshot, \"Images button\", top_k=3)\n",
    "print(\"Search results:\")\n",
    "for semantic_id, element, score in results:\n",
    "    print(f\"  {semantic_id}: {score:.4f}\")"
   ]
  },
  {
   "cell_type": "code",
   "execution_count": null,
   "metadata": {},
   "outputs": [],
   "source": [
    "# Test different queries\n",
    "queries = [\"search button\", \"navigation\", \"google logo\", \"lucky button\"]\n",
    "\n",
    "for query in queries:\n",
    "    results = selector.select_elements(mock_snapshot, query, top_k=2)\n",
    "    print(f\"\\n'{query}':\")\n",
    "    for semantic_id, element, score in results:\n",
    "        print(f\"  {score:.4f} - {semantic_id}\")"
   ]
  },
  {
   "cell_type": "code",
   "execution_count": null,
   "metadata": {},
   "outputs": [],
   "source": [
    "# Cleanup\n",
    "await browser.close()\n",
    "await p.stop()"
   ]
  }
 ],
 "metadata": {
  "kernelspec": {
   "display_name": "venv",
   "language": "python",
   "name": "python3"
  },
  "language_info": {
   "codemirror_mode": {
    "name": "ipython",
    "version": 3
   },
   "file_extension": ".py",
   "mimetype": "text/x-python",
   "name": "python",
   "nbconvert_exporter": "python",
   "pygments_lexer": "ipython3",
   "version": "3.12.3"
  }
 },
 "nbformat": 4,
 "nbformat_minor": 4
}