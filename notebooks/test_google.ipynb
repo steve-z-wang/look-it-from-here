{
 "cells": [
  {
   "cell_type": "code",
   "execution_count": 1,
   "id": "634a2687",
   "metadata": {},
   "outputs": [
    {
     "name": "stdout",
     "output_type": "stream",
     "text": [
      "Current Directory: /home/stevewang/Github/look-it-from-here/notebooks\n"
     ]
    }
   ],
   "source": [
    "import sys \n",
    "import os\n",
    "import json \n",
    "\n",
    "current_dir = os.getcwd()\n",
    "print(\"Current Directory:\", current_dir)\n",
    "\n",
    "sys.path.insert(0, os.path.abspath(os.path.join(current_dir, '..', 'src')))"
   ]
  },
  {
   "cell_type": "code",
   "execution_count": 2,
   "id": "98b4493a",
   "metadata": {},
   "outputs": [],
   "source": [
    "from playwright.async_api import async_playwright\n",
    "from look_it_from_here.pipeline import create_html_tree, create_semantic_tree\n",
    "from look_it_from_here.playwright_implementation import PlaywrightPage"
   ]
  },
  {
   "cell_type": "code",
   "execution_count": 3,
   "id": "e5924341",
   "metadata": {},
   "outputs": [],
   "source": [
    "p = await async_playwright().start() \n",
    "browser = await p.chromium.launch(headless=False)\n",
    "page = await browser.new_page()\n",
    "\n",
    "await page.goto(\"https://en.wikipedia.org/wiki/Main_Page\")\n",
    "await page.wait_for_load_state(\"networkidle\")\n",
    "\n",
    "playwright_page = PlaywrightPage(page)"
   ]
  },
  {
   "cell_type": "code",
   "execution_count": 4,
   "id": "b739d65d",
   "metadata": {},
   "outputs": [],
   "source": [
    "snapshot = await playwright_page.get_snapshot() "
   ]
  },
  {
   "cell_type": "code",
   "execution_count": 5,
   "id": "bcb01af9",
   "metadata": {},
   "outputs": [
    {
     "name": "stdout",
     "output_type": "stream",
     "text": [
      "Generated output.json and output.xml\n",
      "\n",
      "First 1000 characters of XML:\n",
      "<html>Jump to content\n",
      "Main menu\n",
      "Search\n",
      "Donate\n",
      "Create account\n",
      "Log in\n",
      "Personal tools\n",
      "Main Page\n",
      "Talk\n",
      "Read\n",
      "View source\n",
      "View history\n",
      "Tools\n",
      "Appearance hide\n",
      "Text\n",
      "Small\n",
      "Standard\n",
      "Large\n",
      "Width\n",
      "Standard\n",
      "Wide\n",
      "Color (beta)\n",
      "Automatic\n",
      "Light\n",
      "Dark\n",
      "Welcome to Wikipedia,\n",
      "the free encyclopedia that anyone can edit.\n",
      "112,609 active editors7,060,090 articles in English\n",
      "From today's featured article\n",
      "Miller in 2014\n",
      "\n",
      "Myst V: End of Ages is a 2005 adventure video game, developed by Cyan Worlds, published by Ubisoft, and released for Macintosh and Windows PC platforms. Directed by Rand Miller (pictured) it is the fifth installment in the Myst series. Like in past entries, gameplay consists of navigating worlds known as \"Ages\" via the use of special books and items which act as portals. End of Ages replaces pre-rendered environments used in past games with worlds rendered in real-time 3D graphics, allowing easy navigation. It also includes an in-game camera. Additionally, the faces of actors were digitally mapped o...\n"
     ]
    }
   ],
   "source": [
    "# Output both JSON and XML formats\n",
    "with open('output.json', 'w') as f:\n",
    "    json.dump(snapshot.to_dict(), f, indent=2)\n",
    "\n",
    "# Output XML format using the new method\n",
    "xml_output = snapshot.to_xml()\n",
    "if xml_output:\n",
    "    with open('output.xml', 'w') as f:\n",
    "        f.write(xml_output)\n",
    "    \n",
    "    print(\"Generated output.json and output.xml\")\n",
    "    print(\"\\nFirst 1000 characters of XML:\")\n",
    "    print(xml_output[:1000] + \"...\" if len(xml_output) > 1000 else xml_output)\n",
    "else:\n",
    "    print(\"No semantic tree generated\")"
   ]
  }
 ],
 "metadata": {
  "kernelspec": {
   "display_name": "venv",
   "language": "python",
   "name": "python3"
  },
  "language_info": {
   "codemirror_mode": {
    "name": "ipython",
    "version": 3
   },
   "file_extension": ".py",
   "mimetype": "text/x-python",
   "name": "python",
   "nbconvert_exporter": "python",
   "pygments_lexer": "ipython3",
   "version": "3.12.3"
  }
 },
 "nbformat": 4,
 "nbformat_minor": 5
}
